{
 "cells": [
  {
   "cell_type": "code",
   "execution_count": null,
   "metadata": {},
   "outputs": [],
   "source": [
    "import time\n",
    "from datetime import datetime as dt\n",
    "\n",
    "host_temp = \"hosts\"\n",
    "host_path = r\"C:\\Windows\\System32\\drivers\\etc\\hosts\"\n",
    "redirect = \"127.0.0.1\"\n",
    "\n",
    "website_list = []\n",
    "\n",
    "while True:\n",
    "\twebsite_to_be_blocked = input(\"Enter the website you wish to block [--Help: Type 'done' to stop]: \")\n",
    "\tif website_to_be_blocked == 'done':\n",
    "\t\tbreak;\n",
    "\telse:\n",
    "\t\tif 'www.' in website_to_be_blocked:\n",
    "\t\t\twebsite_list.append(website_to_be_blocked)\n",
    "\t\telse:\n",
    "\t\t\twebsite_list.append('www.' + website_to_be_blocked)\n",
    "\n",
    "\n",
    "print(website_list)\n",
    "\n",
    "start_time = int(input(\"Enter the starting time (in 24 HR rule) : \"))\n",
    "end_time = int(input(\"Enter the end time (in 24 HR rule) : \"))\n",
    "\n",
    "while True:\n",
    "    if dt(dt.now().year,dt.now().month,dt.now().day,start_time) < dt.now() < dt(dt.now().year,dt.now().month,dt.now().day,end_time):\n",
    "        print(\"Working hours...\")\n",
    "        with open(host_path,'r+') as file:\n",
    "            content=file.read()\n",
    "            for website in website_list:\n",
    "                if website in content:\n",
    "                    pass\n",
    "                else:\n",
    "                    file.write(redirect+\" \"+ website+\"\\n\")\n",
    "    else:\n",
    "        with open(host_path,'r+') as file:\n",
    "            content=file.readlines()\n",
    "            file.seek(0)\n",
    "            for line in content:\n",
    "                if not any(website in line for website in website_list):\n",
    "                    file.write(line)\n",
    "            file.truncate()\n",
    "        print(\"Fun hours...\")\n",
    "    time.sleep(5)\n"
   ]
  },
  {
   "cell_type": "code",
   "execution_count": null,
   "metadata": {
    "collapsed": true
   },
   "outputs": [],
   "source": []
  }
 ],
 "metadata": {
  "kernelspec": {
   "display_name": "Python 3",
   "language": "python",
   "name": "python3"
  },
  "language_info": {
   "codemirror_mode": {
    "name": "ipython",
    "version": 3
   },
   "file_extension": ".py",
   "mimetype": "text/x-python",
   "name": "python",
   "nbconvert_exporter": "python",
   "pygments_lexer": "ipython3",
   "version": "3.5.3"
  }
 },
 "nbformat": 4,
 "nbformat_minor": 2
}
